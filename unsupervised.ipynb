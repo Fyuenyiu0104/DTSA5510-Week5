{
 "cells": [
  {
   "cell_type": "code",
   "execution_count": 1,
   "id": "8d16a461",
   "metadata": {
    "_cell_guid": "b1076dfc-b9ad-4769-8c92-a6c4dae69d19",
    "_uuid": "8f2839f25d086af736a60e9eeb907d3b93b6e0e5",
    "execution": {
     "iopub.execute_input": "2024-08-20T08:38:00.324033Z",
     "iopub.status.busy": "2024-08-20T08:38:00.323560Z",
     "iopub.status.idle": "2024-08-20T08:38:01.479296Z",
     "shell.execute_reply": "2024-08-20T08:38:01.477558Z"
    },
    "papermill": {
     "duration": 1.177813,
     "end_time": "2024-08-20T08:38:01.482897",
     "exception": false,
     "start_time": "2024-08-20T08:38:00.305084",
     "status": "completed"
    },
    "tags": []
   },
   "outputs": [
    {
     "name": "stdout",
     "output_type": "stream",
     "text": [
      "/kaggle/input/llm-detect-ai-generated-text/sample_submission.csv\n",
      "/kaggle/input/llm-detect-ai-generated-text/train_prompts.csv\n",
      "/kaggle/input/llm-detect-ai-generated-text/test_essays.csv\n",
      "/kaggle/input/llm-detect-ai-generated-text/train_essays.csv\n"
     ]
    }
   ],
   "source": [
    "# This Python 3 environment comes with many helpful analytics libraries installed\n",
    "# It is defined by the kaggle/python Docker image: https://github.com/kaggle/docker-python\n",
    "# For example, here's several helpful packages to load\n",
    "\n",
    "import numpy as np # linear algebra\n",
    "import pandas as pd # data processing, CSV file I/O (e.g. pd.read_csv)\n",
    "\n",
    "# Input data files are available in the read-only \"../input/\" directory\n",
    "# For example, running this (by clicking run or pressing Shift+Enter) will list all files under the input directory\n",
    "\n",
    "import os\n",
    "for dirname, _, filenames in os.walk('/kaggle/input'):\n",
    "    for filename in filenames:\n",
    "        print(os.path.join(dirname, filename))\n",
    "\n",
    "# You can write up to 20GB to the current directory (/kaggle/working/) that gets preserved as output when you create a version using \"Save & Run All\" \n",
    "# You can also write temporary files to /kaggle/temp/, but they won't be saved outside of the current session"
   ]
  },
  {
   "cell_type": "markdown",
   "id": "fb8c4834",
   "metadata": {
    "papermill": {
     "duration": 0.014735,
     "end_time": "2024-08-20T08:38:01.513206",
     "exception": false,
     "start_time": "2024-08-20T08:38:01.498471",
     "status": "completed"
    },
    "tags": []
   },
   "source": [
    "# Gather data, determine the method of data collection and provenance of the data\n"
   ]
  },
  {
   "cell_type": "code",
   "execution_count": 2,
   "id": "984b9d76",
   "metadata": {
    "execution": {
     "iopub.execute_input": "2024-08-20T08:38:01.547507Z",
     "iopub.status.busy": "2024-08-20T08:38:01.546531Z",
     "iopub.status.idle": "2024-08-20T08:38:01.708677Z",
     "shell.execute_reply": "2024-08-20T08:38:01.707213Z"
    },
    "papermill": {
     "duration": 0.183662,
     "end_time": "2024-08-20T08:38:01.712563",
     "exception": false,
     "start_time": "2024-08-20T08:38:01.528901",
     "status": "completed"
    },
    "tags": []
   },
   "outputs": [],
   "source": [
    "# Load the datasets\n",
    "train_essays = pd.read_csv('/kaggle/input/llm-detect-ai-generated-text/train_essays.csv')\n",
    "test_essays = pd.read_csv('/kaggle/input/llm-detect-ai-generated-text/test_essays.csv')\n",
    "train_prompts = pd.read_csv('/kaggle/input/llm-detect-ai-generated-text/train_prompts.csv')"
   ]
  },
  {
   "cell_type": "markdown",
   "id": "6f088dd4",
   "metadata": {
    "papermill": {
     "duration": 0.01749,
     "end_time": "2024-08-20T08:38:01.745751",
     "exception": false,
     "start_time": "2024-08-20T08:38:01.728261",
     "status": "completed"
    },
    "tags": []
   },
   "source": [
    "# Clustering for Anomaly Detection (Unsupervised Learning Approach)\n",
    "Problem Statement:\n",
    "Since the training dataset is mostly composed of student-written essays, one way to approach this problem is to use an unsupervised learning method to identify essays that deviate significantly from the norm. In this case, LLM-generated essays could be considered anomalies or outliers in comparison to the dominant class of student-written essays."
   ]
  },
  {
   "cell_type": "markdown",
   "id": "496612bf",
   "metadata": {
    "papermill": {
     "duration": 0.015626,
     "end_time": "2024-08-20T08:38:01.778954",
     "exception": false,
     "start_time": "2024-08-20T08:38:01.763328",
     "status": "completed"
    },
    "tags": []
   },
   "source": [
    "## Task Type:\n",
    "\n",
    "Clustering/Anomaly Detection\n",
    "I'm going to use clustering algorithms (e.g., K-Means, DBSCAN, or Gaussian Mixture Models) to group similar essays together based on their content or textual features (e.g., TF-IDF vectors, BERT embeddings).\n",
    "Once clustered, essays that fall into smaller or distinct clusters could be flagged as potential LLM-generated essays, since they may exhibit unique patterns or features that differ from the larger clusters dominated by student-written work.\n",
    "\n",
    "## Data Type:\n",
    "Text data (which can be transformed into numerical representations such as TF-IDF vectors, embeddings from models like BERT or GPT, or other feature extraction techniques).\n",
    "\n",
    "## Approach:\n",
    "Preprocessing: Convert the essay text into numerical vectors using techniques such as TF-IDF, BERT, or GloVe embeddings.\n",
    "Clustering: Apply a clustering algorithm like K-Means or DBSCAN to group similar essays. The assumption is that most essays will fall into a few large clusters representing student-written essays, while LLM-generated essays will form smaller, distinct clusters or be detected as outliers.\n",
    "Evaluation: Analyze the clusters to identify essays that belong to smaller or more unique clusters, which may correspond to the AI-generated essays."
   ]
  },
  {
   "cell_type": "markdown",
   "id": "3acaa271",
   "metadata": {
    "papermill": {
     "duration": 0.016635,
     "end_time": "2024-08-20T08:38:01.811435",
     "exception": false,
     "start_time": "2024-08-20T08:38:01.794800",
     "status": "completed"
    },
    "tags": []
   },
   "source": [
    "# EDA - Inspecting Data"
   ]
  },
  {
   "cell_type": "code",
   "execution_count": 3,
   "id": "3e4fca5b",
   "metadata": {
    "execution": {
     "iopub.execute_input": "2024-08-20T08:38:01.845729Z",
     "iopub.status.busy": "2024-08-20T08:38:01.844503Z",
     "iopub.status.idle": "2024-08-20T08:38:01.902677Z",
     "shell.execute_reply": "2024-08-20T08:38:01.901032Z"
    },
    "papermill": {
     "duration": 0.079997,
     "end_time": "2024-08-20T08:38:01.906464",
     "exception": false,
     "start_time": "2024-08-20T08:38:01.826467",
     "status": "completed"
    },
    "tags": []
   },
   "outputs": [
    {
     "name": "stdout",
     "output_type": "stream",
     "text": [
      "Training Essays Dataset Info:\n",
      "<class 'pandas.core.frame.DataFrame'>\n",
      "RangeIndex: 1378 entries, 0 to 1377\n",
      "Data columns (total 4 columns):\n",
      " #   Column     Non-Null Count  Dtype \n",
      "---  ------     --------------  ----- \n",
      " 0   id         1378 non-null   object\n",
      " 1   prompt_id  1378 non-null   int64 \n",
      " 2   text       1378 non-null   object\n",
      " 3   generated  1378 non-null   int64 \n",
      "dtypes: int64(2), object(2)\n",
      "memory usage: 43.2+ KB\n",
      "\n",
      "Missing Values in Training Essays:\n",
      "id           0\n",
      "prompt_id    0\n",
      "text         0\n",
      "generated    0\n",
      "dtype: int64\n",
      "\n",
      "Summary Statistics of Training Essays:\n",
      "         prompt_id    generated\n",
      "count  1378.000000  1378.000000\n",
      "mean      0.486212     0.002177\n",
      "std       0.499991     0.046625\n",
      "min       0.000000     0.000000\n",
      "25%       0.000000     0.000000\n",
      "50%       0.000000     0.000000\n",
      "75%       1.000000     0.000000\n",
      "max       1.000000     1.000000\n",
      "\n",
      "First Few Rows of Training Essays:\n",
      "         id  prompt_id                                               text  \\\n",
      "0  0059830c          0  Cars. Cars have been around since they became ...   \n",
      "1  005db917          0  Transportation is a large necessity in most co...   \n",
      "2  008f63e3          0  \"America's love affair with it's vehicles seem...   \n",
      "3  00940276          0  How often do you ride in a car? Do you drive a...   \n",
      "4  00c39458          0  Cars are a wonderful thing. They are perhaps o...   \n",
      "\n",
      "   generated  \n",
      "0          0  \n",
      "1          0  \n",
      "2          0  \n",
      "3          0  \n",
      "4          0  \n"
     ]
    }
   ],
   "source": [
    "# Display basic information about the dataset\n",
    "print(\"Training Essays Dataset Info:\")\n",
    "train_essays.info()\n",
    "\n",
    "print(\"\\nMissing Values in Training Essays:\")\n",
    "print(train_essays.isnull().sum())\n",
    "\n",
    "# View basic statistics of the dataset\n",
    "print(\"\\nSummary Statistics of Training Essays:\")\n",
    "print(train_essays.describe())\n",
    "\n",
    "# Check first few rows to get a sense of the data\n",
    "print(\"\\nFirst Few Rows of Training Essays:\")\n",
    "print(train_essays.head())\n"
   ]
  },
  {
   "cell_type": "markdown",
   "id": "c7881f6a",
   "metadata": {
    "papermill": {
     "duration": 0.014434,
     "end_time": "2024-08-20T08:38:01.935959",
     "exception": false,
     "start_time": "2024-08-20T08:38:01.921525",
     "status": "completed"
    },
    "tags": []
   },
   "source": [
    "# EDA - Visualizing"
   ]
  },
  {
   "cell_type": "markdown",
   "id": "8a3e6fbf",
   "metadata": {
    "papermill": {
     "duration": 0.017466,
     "end_time": "2024-08-20T08:38:01.969544",
     "exception": false,
     "start_time": "2024-08-20T08:38:01.952078",
     "status": "completed"
    },
    "tags": []
   },
   "source": [
    "## Visualizing the Distribution of Essay Lengths"
   ]
  },
  {
   "cell_type": "markdown",
   "id": "e314c82a",
   "metadata": {
    "papermill": {
     "duration": 0.016983,
     "end_time": "2024-08-20T08:38:02.001825",
     "exception": false,
     "start_time": "2024-08-20T08:38:01.984842",
     "status": "completed"
    },
    "tags": []
   },
   "source": [
    "We'll visualize the length of each essay, which can be an important feature to help distinguish between student and AI-generated text. Essay lengths can be calculated by counting the number of characters or words in each essay."
   ]
  },
  {
   "cell_type": "code",
   "execution_count": 4,
   "id": "0aa04736",
   "metadata": {
    "execution": {
     "iopub.execute_input": "2024-08-20T08:38:02.037808Z",
     "iopub.status.busy": "2024-08-20T08:38:02.037275Z",
     "iopub.status.idle": "2024-08-20T08:38:02.499847Z",
     "shell.execute_reply": "2024-08-20T08:38:02.497927Z"
    },
    "papermill": {
     "duration": 0.483623,
     "end_time": "2024-08-20T08:38:02.503080",
     "exception": false,
     "start_time": "2024-08-20T08:38:02.019457",
     "status": "completed"
    },
    "tags": []
   },
   "outputs": [
    {
     "data": {
      "image/png": "[encoded data removed]",
      "text/plain": [
       "<Figure size 1000x600 with 1 Axes>"
      ]
     },
     "metadata": {},
     "output_type": "display_data"
    }
   ],
   "source": [
    "import matplotlib.pyplot as plt\n",
    "\n",
    "# Add a column for essay lengths (number of words)\n",
    "train_essays['essay_length'] = train_essays['text'].apply(lambda x: len(x.split()))\n",
    "\n",
    "# Plot histogram of essay lengths\n",
    "plt.figure(figsize=(10, 6))\n",
    "plt.hist(train_essays['essay_length'], bins=50, color='skyblue')\n",
    "plt.title('Distribution of Essay Lengths')\n",
    "plt.xlabel('Number of Words')\n",
    "plt.ylabel('Frequency')\n",
    "plt.show()\n"
   ]
  },
  {
   "cell_type": "markdown",
   "id": "b4efa530",
   "metadata": {
    "papermill": {
     "duration": 0.016512,
     "end_time": "2024-08-20T08:38:02.535833",
     "exception": false,
     "start_time": "2024-08-20T08:38:02.519321",
     "status": "completed"
    },
    "tags": []
   },
   "source": [
    "Description:\n",
    "\n",
    "The histogram shows the distribution of essay lengths. This may provide insights into whether LLM-generated essays differ in length from student-written essays.\n"
   ]
  },
  {
   "cell_type": "markdown",
   "id": "7b20d138",
   "metadata": {
    "papermill": {
     "duration": 0.015856,
     "end_time": "2024-08-20T08:38:02.568528",
     "exception": false,
     "start_time": "2024-08-20T08:38:02.552672",
     "status": "completed"
    },
    "tags": []
   },
   "source": [
    "## Exploring Prompt Information"
   ]
  },
  {
   "cell_type": "code",
   "execution_count": 5,
   "id": "1e74d638",
   "metadata": {
    "execution": {
     "iopub.execute_input": "2024-08-20T08:38:02.604582Z",
     "iopub.status.busy": "2024-08-20T08:38:02.604074Z",
     "iopub.status.idle": "2024-08-20T08:38:04.780862Z",
     "shell.execute_reply": "2024-08-20T08:38:04.778619Z"
    },
    "papermill": {
     "duration": 2.199212,
     "end_time": "2024-08-20T08:38:04.784721",
     "exception": false,
     "start_time": "2024-08-20T08:38:02.585509",
     "status": "completed"
    },
    "tags": []
   },
   "outputs": [
    {
     "data": {
      "image/png": "[encoded data removed]",
      "text/plain": [
       "<Figure size 1000x600 with 1 Axes>"
      ]
     },
     "metadata": {},
     "output_type": "display_data"
    }
   ],
   "source": [
    "import seaborn as sns\n",
    "\n",
    "# Plot the distribution of essays by prompt_id\n",
    "plt.figure(figsize=(10, 6))\n",
    "sns.countplot(data=train_essays, x='prompt_id', palette='Set2')\n",
    "plt.title('Distribution of Essays by Prompt ID')\n",
    "plt.xlabel('Prompt ID')\n",
    "plt.ylabel('Count')\n",
    "plt.show()\n"
   ]
  },
  {
   "cell_type": "markdown",
   "id": "11d5e499",
   "metadata": {
    "papermill": {
     "duration": 0.02323,
     "end_time": "2024-08-20T08:38:04.828513",
     "exception": false,
     "start_time": "2024-08-20T08:38:04.805283",
     "status": "completed"
    },
    "tags": []
   },
   "source": [
    "This visualization shows how essays are distributed across different prompts. If certain prompts lead to very distinct essay styles, this could help our anomaly detection approach by clustering essays based on prompt-specific patterns."
   ]
  },
  {
   "cell_type": "markdown",
   "id": "2315e5dd",
   "metadata": {
    "papermill": {
     "duration": 0.016235,
     "end_time": "2024-08-20T08:38:04.865867",
     "exception": false,
     "start_time": "2024-08-20T08:38:04.849632",
     "status": "completed"
    },
    "tags": []
   },
   "source": [
    "## Correlations and Feature Relationships"
   ]
  },
  {
   "cell_type": "code",
   "execution_count": 6,
   "id": "9be0dc90",
   "metadata": {
    "execution": {
     "iopub.execute_input": "2024-08-20T08:38:04.901459Z",
     "iopub.status.busy": "2024-08-20T08:38:04.900026Z",
     "iopub.status.idle": "2024-08-20T08:38:05.651719Z",
     "shell.execute_reply": "2024-08-20T08:38:05.650083Z"
    },
    "papermill": {
     "duration": 0.772782,
     "end_time": "2024-08-20T08:38:05.654645",
     "exception": false,
     "start_time": "2024-08-20T08:38:04.881863",
     "status": "completed"
    },
    "tags": []
   },
   "outputs": [
    {
     "data": {
      "image/png": "[encoded data removed]",
      "text/plain": [
       "<Figure size 800x600 with 2 Axes>"
      ]
     },
     "metadata": {},
     "output_type": "display_data"
    }
   ],
   "source": [
    "# Assuming we have extracted some text-based features, e.g., essay_length, average_word_length, etc.\n",
    "# Here's a mockup of correlations between these features:\n",
    "\n",
    "# Generate some dummy features for illustration purposes\n",
    "train_essays['average_word_length'] = train_essays['text'].apply(lambda x: np.mean([len(word) for word in x.split()]))\n",
    "train_essays['num_unique_words'] = train_essays['text'].apply(lambda x: len(set(x.split())))\n",
    "\n",
    "# Correlation matrix\n",
    "feature_cols = ['essay_length', 'average_word_length', 'num_unique_words']\n",
    "correlation_matrix = train_essays[feature_cols].corr()\n",
    "\n",
    "# Plot the heatmap of the correlation matrix\n",
    "plt.figure(figsize=(8, 6))\n",
    "sns.heatmap(correlation_matrix, annot=True, cmap='coolwarm', fmt='.2f')\n",
    "plt.title('Correlation Matrix of Extracted Features')\n",
    "plt.show()\n"
   ]
  },
  {
   "cell_type": "markdown",
   "id": "55e84c03",
   "metadata": {
    "papermill": {
     "duration": 0.017287,
     "end_time": "2024-08-20T08:38:05.688377",
     "exception": false,
     "start_time": "2024-08-20T08:38:05.671090",
     "status": "completed"
    },
    "tags": []
   },
   "source": [
    "Here, we create some simple text-based features and examine their correlations. This gives us an idea of how different aspects of the text (e.g., essay length, word length, word diversity) are related and may help with clustering."
   ]
  },
  {
   "cell_type": "markdown",
   "id": "d97011f8",
   "metadata": {
    "papermill": {
     "duration": 0.016652,
     "end_time": "2024-08-20T08:38:05.722556",
     "exception": false,
     "start_time": "2024-08-20T08:38:05.705904",
     "status": "completed"
    },
    "tags": []
   },
   "source": [
    "# EDA - Data Cleaning and Transformation"
   ]
  },
  {
   "cell_type": "markdown",
   "id": "f91ff0a2",
   "metadata": {
    "papermill": {
     "duration": 0.016887,
     "end_time": "2024-08-20T08:38:05.755864",
     "exception": false,
     "start_time": "2024-08-20T08:38:05.738977",
     "status": "completed"
    },
    "tags": []
   },
   "source": [
    "Outlier Detection: We need to check for any outliers in the essay lengths or other features that might skew the clustering results. We can decide whether to trim or keep these outliers based on their potential significance.\n",
    "\n",
    "Missing Values: If there are missing values, we may need to decide whether to fill them with appropriate values or remove those entries."
   ]
  },
  {
   "cell_type": "code",
   "execution_count": 7,
   "id": "26efd24d",
   "metadata": {
    "execution": {
     "iopub.execute_input": "2024-08-20T08:38:05.791907Z",
     "iopub.status.busy": "2024-08-20T08:38:05.791476Z",
     "iopub.status.idle": "2024-08-20T08:38:05.978174Z",
     "shell.execute_reply": "2024-08-20T08:38:05.976409Z"
    },
    "papermill": {
     "duration": 0.208108,
     "end_time": "2024-08-20T08:38:05.981351",
     "exception": false,
     "start_time": "2024-08-20T08:38:05.773243",
     "status": "completed"
    },
    "tags": []
   },
   "outputs": [
    {
     "data": {
      "image/png": "[encoded data removed]",
      "text/plain": [
       "<Figure size 800x600 with 1 Axes>"
      ]
     },
     "metadata": {},
     "output_type": "display_data"
    },
    {
     "name": "stdout",
     "output_type": "stream",
     "text": [
      "Number of essays after removing outliers: 1364\n"
     ]
    }
   ],
   "source": [
    "# Check for outliers in essay lengths\n",
    "plt.figure(figsize=(8, 6))\n",
    "sns.boxplot(x=train_essays['essay_length'], color='lightcoral')\n",
    "plt.title('Boxplot of Essay Lengths')\n",
    "plt.show()\n",
    "\n",
    "# If outliers are found, we can decide on handling them. Here's a sample approach:\n",
    "# Remove outliers in essay lengths (e.g., if lengths exceed a certain threshold)\n",
    "# Define threshold for outliers (e.g., upper limit for essay length)\n",
    "upper_threshold = train_essays['essay_length'].quantile(0.99)\n",
    "cleaned_essays = train_essays[train_essays['essay_length'] < upper_threshold]\n",
    "\n",
    "print(f\"Number of essays after removing outliers: {len(cleaned_essays)}\")\n"
   ]
  },
  {
   "cell_type": "markdown",
   "id": "e8c1581f",
   "metadata": {
    "papermill": {
     "duration": 0.01753,
     "end_time": "2024-08-20T08:38:06.015766",
     "exception": false,
     "start_time": "2024-08-20T08:38:05.998236",
     "status": "completed"
    },
    "tags": []
   },
   "source": [
    "Description:\n",
    "\n",
    "The boxplot will help us visualize any outliers in the essay lengths. Based on this, we can decide whether to clean the data by removing extreme values."
   ]
  },
  {
   "cell_type": "markdown",
   "id": "7cce02ff",
   "metadata": {
    "papermill": {
     "duration": 0.082542,
     "end_time": "2024-08-20T08:38:06.115472",
     "exception": false,
     "start_time": "2024-08-20T08:38:06.032930",
     "status": "completed"
    },
    "tags": []
   },
   "source": [
    "## EDA - Feature Extraction for Clustering"
   ]
  },
  {
   "cell_type": "code",
   "execution_count": 8,
   "id": "ab0ab192",
   "metadata": {
    "execution": {
     "iopub.execute_input": "2024-08-20T08:38:06.154409Z",
     "iopub.status.busy": "2024-08-20T08:38:06.153859Z",
     "iopub.status.idle": "2024-08-20T08:38:07.298771Z",
     "shell.execute_reply": "2024-08-20T08:38:07.297074Z"
    },
    "papermill": {
     "duration": 1.168497,
     "end_time": "2024-08-20T08:38:07.301764",
     "exception": false,
     "start_time": "2024-08-20T08:38:06.133267",
     "status": "completed"
    },
    "tags": []
   },
   "outputs": [
    {
     "name": "stdout",
     "output_type": "stream",
     "text": [
      "TF-IDF Matrix Shape: (1364, 5000)\n"
     ]
    }
   ],
   "source": [
    "from sklearn.feature_extraction.text import TfidfVectorizer\n",
    "\n",
    "# Convert the essay text into numerical vectors using TF-IDF\n",
    "tfidf_vectorizer = TfidfVectorizer(max_features=5000)\n",
    "X_tfidf = tfidf_vectorizer.fit_transform(cleaned_essays['text'])\n",
    "\n",
    "print(f\"TF-IDF Matrix Shape: {X_tfidf.shape}\")\n"
   ]
  },
  {
   "cell_type": "markdown",
   "id": "e5446566",
   "metadata": {
    "papermill": {
     "duration": 0.017652,
     "end_time": "2024-08-20T08:38:07.337299",
     "exception": false,
     "start_time": "2024-08-20T08:38:07.319647",
     "status": "completed"
    },
    "tags": []
   },
   "source": [
    "# Modeling - Cluster Algorithrm"
   ]
  },
  {
   "cell_type": "code",
   "execution_count": 9,
   "id": "89d6fa27",
   "metadata": {
    "execution": {
     "iopub.execute_input": "2024-08-20T08:38:07.374697Z",
     "iopub.status.busy": "2024-08-20T08:38:07.374225Z",
     "iopub.status.idle": "2024-08-20T08:38:08.898604Z",
     "shell.execute_reply": "2024-08-20T08:38:08.896907Z"
    },
    "papermill": {
     "duration": 1.547212,
     "end_time": "2024-08-20T08:38:08.902191",
     "exception": false,
     "start_time": "2024-08-20T08:38:07.354979",
     "status": "completed"
    },
    "tags": []
   },
   "outputs": [
    {
     "name": "stderr",
     "output_type": "stream",
     "text": [
      "/tmp/ipykernel_18/2411023399.py:14: SettingWithCopyWarning: \n",
      "A value is trying to be set on a copy of a slice from a DataFrame.\n",
      "Try using .loc[row_indexer,col_indexer] = value instead\n",
      "\n",
      "See the caveats in the documentation: https://pandas.pydata.org/pandas-docs/stable/user_guide/indexing.html#returning-a-view-versus-a-copy\n",
      "  cleaned_essays['essay_length'] = cleaned_essays['text'].apply(lambda x: len(x.split()))\n"
     ]
    },
    {
     "name": "stdout",
     "output_type": "stream",
     "text": [
      "Data Shape after TF-IDF and Essay Length: (1364, 5001)\n"
     ]
    }
   ],
   "source": [
    "from sklearn.preprocessing import StandardScaler\n",
    "from sklearn.feature_extraction.text import TfidfVectorizer\n",
    "import pandas as pd\n",
    "\n",
    "# Vectorizing the essays using TF-IDF\n",
    "tfidf_vectorizer = TfidfVectorizer(max_features=5000)\n",
    "X_tfidf = tfidf_vectorizer.fit_transform(cleaned_essays['text']).toarray()\n",
    "\n",
    "# Create a DataFrame from the TF-IDF matrix and assign column names\n",
    "tfidf_columns = [f'tfidf_{i}' for i in range(X_tfidf.shape[1])]\n",
    "X_tfidf_df = pd.DataFrame(X_tfidf, columns=tfidf_columns)\n",
    "\n",
    "# Add additional features like essay length\n",
    "cleaned_essays['essay_length'] = cleaned_essays['text'].apply(lambda x: len(x.split()))\n",
    "essay_length_df = cleaned_essays[['essay_length']].reset_index(drop=True)\n",
    "\n",
    "# Concatenate TF-IDF features with essay length\n",
    "X = pd.concat([X_tfidf_df, essay_length_df], axis=1)\n",
    "\n",
    "# Normalize the data\n",
    "scaler = StandardScaler()\n",
    "X_scaled = scaler.fit_transform(X)\n",
    "\n",
    "print(f\"Data Shape after TF-IDF and Essay Length: {X_scaled.shape}\")\n"
   ]
  },
  {
   "cell_type": "markdown",
   "id": "38eb4d11",
   "metadata": {
    "papermill": {
     "duration": 0.018389,
     "end_time": "2024-08-20T08:38:08.939901",
     "exception": false,
     "start_time": "2024-08-20T08:38:08.921512",
     "status": "completed"
    },
    "tags": []
   },
   "source": [
    "- Column Names for TF-IDF: We assign column names to the DataFrame created from the TF-IDF vectors. This ensures that each column in the DataFrame has a string-based name (tfidf_0, tfidf_1, ..., tfidf_4999).\n",
    "- Concatenation: We then concatenate the TF-IDF DataFrame with the essay_length DataFrame.\n",
    "- Normalization: After concatenation, the StandardScaler can be applied without errors because all column names are now properly defined and of the same type (strings)."
   ]
  },
  {
   "cell_type": "markdown",
   "id": "8f68e575",
   "metadata": {
    "papermill": {
     "duration": 0.018643,
     "end_time": "2024-08-20T08:38:08.977413",
     "exception": false,
     "start_time": "2024-08-20T08:38:08.958770",
     "status": "completed"
    },
    "tags": []
   },
   "source": [
    "## K-Means Clustering"
   ]
  },
  {
   "cell_type": "code",
   "execution_count": 10,
   "id": "28bf1bf3",
   "metadata": {
    "execution": {
     "iopub.execute_input": "2024-08-20T08:38:09.017640Z",
     "iopub.status.busy": "2024-08-20T08:38:09.017042Z",
     "iopub.status.idle": "2024-08-20T08:38:11.539920Z",
     "shell.execute_reply": "2024-08-20T08:38:11.537599Z"
    },
    "papermill": {
     "duration": 2.550821,
     "end_time": "2024-08-20T08:38:11.546711",
     "exception": false,
     "start_time": "2024-08-20T08:38:08.995890",
     "status": "completed"
    },
    "tags": []
   },
   "outputs": [
    {
     "name": "stderr",
     "output_type": "stream",
     "text": [
      "/opt/conda/lib/python3.10/site-packages/sklearn/cluster/_kmeans.py:870: FutureWarning: The default value of `n_init` will change from 10 to 'auto' in 1.4. Set the value of `n_init` explicitly to suppress the warning\n",
      "  warnings.warn(\n",
      "/tmp/ipykernel_18/2616624662.py:9: SettingWithCopyWarning: \n",
      "A value is trying to be set on a copy of a slice from a DataFrame.\n",
      "Try using .loc[row_indexer,col_indexer] = value instead\n",
      "\n",
      "See the caveats in the documentation: https://pandas.pydata.org/pandas-docs/stable/user_guide/indexing.html#returning-a-view-versus-a-copy\n",
      "  cleaned_essays['kmeans_cluster'] = kmeans.labels_\n"
     ]
    },
    {
     "data": {
      "image/png": "[encoded data removed]",
      "text/plain": [
       "<Figure size 1000x600 with 1 Axes>"
      ]
     },
     "metadata": {},
     "output_type": "display_data"
    },
    {
     "name": "stdout",
     "output_type": "stream",
     "text": [
      "kmeans_cluster\n",
      "1    696\n",
      "0    668\n",
      "Name: count, dtype: int64\n"
     ]
    }
   ],
   "source": [
    "from sklearn.cluster import KMeans\n",
    "import matplotlib.pyplot as plt\n",
    "\n",
    "# Apply K-Means clustering with a pre-defined number of clusters\n",
    "kmeans = KMeans(n_clusters=2, random_state=42)\n",
    "kmeans.fit(X_scaled)\n",
    "\n",
    "# Add the cluster labels to the DataFrame\n",
    "cleaned_essays['kmeans_cluster'] = kmeans.labels_\n",
    "\n",
    "# Visualize the clusters using essay length as an example\n",
    "plt.figure(figsize=(10, 6))\n",
    "plt.scatter(cleaned_essays['essay_length'], kmeans.labels_, c=kmeans.labels_, cmap='viridis', alpha=0.6)\n",
    "plt.title('K-Means Clustering Results by Essay Length')\n",
    "plt.xlabel('Essay Length')\n",
    "plt.ylabel('Cluster Label')\n",
    "plt.show()\n",
    "\n",
    "# Check the number of essays in each cluster\n",
    "print(cleaned_essays['kmeans_cluster'].value_counts())\n"
   ]
  },
  {
   "cell_type": "markdown",
   "id": "7d8554dc",
   "metadata": {
    "papermill": {
     "duration": 0.021465,
     "end_time": "2024-08-20T08:38:11.588023",
     "exception": false,
     "start_time": "2024-08-20T08:38:11.566558",
     "status": "completed"
    },
    "tags": []
   },
   "source": [
    "- K-Means Clustering: We fit the K-Means algorithm to the scaled data, setting n_clusters=2 to assume we’re dividing the data into two clusters (e.g., student-written vs. AI-generated).\n",
    "- Cluster Visualization: We visualize the clustering results using essay length for a basic 2D plot. Depending on your dataset, you may choose more advanced visualizations.\n",
    "- Cluster Distribution: We print the number of data points in each cluster to see how K-Means has distributed the essays."
   ]
  },
  {
   "cell_type": "markdown",
   "id": "09dc35ca",
   "metadata": {
    "papermill": {
     "duration": 0.020331,
     "end_time": "2024-08-20T08:38:11.627481",
     "exception": false,
     "start_time": "2024-08-20T08:38:11.607150",
     "status": "completed"
    },
    "tags": []
   },
   "source": [
    "## DBSCAN Clustering"
   ]
  },
  {
   "cell_type": "code",
   "execution_count": 11,
   "id": "057888a5",
   "metadata": {
    "execution": {
     "iopub.execute_input": "2024-08-20T08:38:11.668930Z",
     "iopub.status.busy": "2024-08-20T08:38:11.668456Z",
     "iopub.status.idle": "2024-08-20T08:38:12.495618Z",
     "shell.execute_reply": "2024-08-20T08:38:12.493728Z"
    },
    "papermill": {
     "duration": 0.85322,
     "end_time": "2024-08-20T08:38:12.500382",
     "exception": false,
     "start_time": "2024-08-20T08:38:11.647162",
     "status": "completed"
    },
    "tags": []
   },
   "outputs": [
    {
     "name": "stderr",
     "output_type": "stream",
     "text": [
      "/tmp/ipykernel_18/3492554622.py:8: SettingWithCopyWarning: \n",
      "A value is trying to be set on a copy of a slice from a DataFrame.\n",
      "Try using .loc[row_indexer,col_indexer] = value instead\n",
      "\n",
      "See the caveats in the documentation: https://pandas.pydata.org/pandas-docs/stable/user_guide/indexing.html#returning-a-view-versus-a-copy\n",
      "  cleaned_essays['dbscan_cluster'] = dbscan.labels_\n"
     ]
    },
    {
     "data": {
      "image/png": "[encoded data removed]",
      "text/plain": [
       "<Figure size 1000x600 with 1 Axes>"
      ]
     },
     "metadata": {},
     "output_type": "display_data"
    },
    {
     "name": "stdout",
     "output_type": "stream",
     "text": [
      "dbscan_cluster\n",
      "-1    1364\n",
      "Name: count, dtype: int64\n"
     ]
    }
   ],
   "source": [
    "from sklearn.cluster import DBSCAN\n",
    "\n",
    "# Apply DBSCAN clustering\n",
    "dbscan = DBSCAN(eps=0.5, min_samples=5)\n",
    "dbscan.fit(X_scaled)\n",
    "\n",
    "# Add the DBSCAN cluster labels to the DataFrame\n",
    "cleaned_essays['dbscan_cluster'] = dbscan.labels_\n",
    "\n",
    "# Visualize the DBSCAN clustering results by essay length\n",
    "plt.figure(figsize=(10, 6))\n",
    "plt.scatter(cleaned_essays['essay_length'], dbscan.labels_, c=dbscan.labels_, cmap='plasma', alpha=0.6)\n",
    "plt.title('DBSCAN Clustering Results by Essay Length')\n",
    "plt.xlabel('Essay Length')\n",
    "plt.ylabel('Cluster Label')\n",
    "plt.show()\n",
    "\n",
    "# Check the number of essays in each cluster, -1 indicates outliers\n",
    "print(cleaned_essays['dbscan_cluster'].value_counts())\n"
   ]
  },
  {
   "cell_type": "markdown",
   "id": "d55cb2bb",
   "metadata": {
    "papermill": {
     "duration": 0.022294,
     "end_time": "2024-08-20T08:38:12.544823",
     "exception": false,
     "start_time": "2024-08-20T08:38:12.522529",
     "status": "completed"
    },
    "tags": []
   },
   "source": [
    "DBSCAN: In this case, DBSCAN couldn't identify the Cluster level if we are not apply a pre-defined number of clusters."
   ]
  },
  {
   "cell_type": "markdown",
   "id": "f03d7e21",
   "metadata": {
    "papermill": {
     "duration": 0.021797,
     "end_time": "2024-08-20T08:38:12.588302",
     "exception": false,
     "start_time": "2024-08-20T08:38:12.566505",
     "status": "completed"
    },
    "tags": []
   },
   "source": [
    "## Hierarchical Clustering"
   ]
  },
  {
   "cell_type": "code",
   "execution_count": 12,
   "id": "d4cd1f67",
   "metadata": {
    "execution": {
     "iopub.execute_input": "2024-08-20T08:38:12.632787Z",
     "iopub.status.busy": "2024-08-20T08:38:12.632323Z",
     "iopub.status.idle": "2024-08-20T08:38:16.326361Z",
     "shell.execute_reply": "2024-08-20T08:38:16.325050Z"
    },
    "papermill": {
     "duration": 3.720473,
     "end_time": "2024-08-20T08:38:16.329254",
     "exception": false,
     "start_time": "2024-08-20T08:38:12.608781",
     "status": "completed"
    },
    "tags": []
   },
   "outputs": [
    {
     "data": {
      "image/png": "[encoded data removed]",
      "text/plain": [
       "<Figure size 1000x600 with 1 Axes>"
      ]
     },
     "metadata": {},
     "output_type": "display_data"
    }
   ],
   "source": [
    "from scipy.cluster.hierarchy import dendrogram, linkage\n",
    "\n",
    "# Perform hierarchical clustering using the 'ward' method\n",
    "Z = linkage(X_scaled, method='ward')\n",
    "\n",
    "# Plot the dendrogram\n",
    "plt.figure(figsize=(10, 6))\n",
    "dendrogram(Z, truncate_mode='level', p=3)\n",
    "plt.title('Hierarchical Clustering Dendrogram')\n",
    "plt.xlabel('Sample Index')\n",
    "plt.ylabel('Distance')\n",
    "plt.show()\n"
   ]
  },
  {
   "cell_type": "markdown",
   "id": "5d43c5e0",
   "metadata": {
    "papermill": {
     "duration": 0.02055,
     "end_time": "2024-08-20T08:38:16.371638",
     "exception": false,
     "start_time": "2024-08-20T08:38:16.351088",
     "status": "completed"
    },
    "tags": []
   },
   "source": [
    "- Hierarchical Clustering: This method organizes the essays into a hierarchy and visualizes the relationship between clusters with a dendrogram.\n",
    "- Dendrogram: The dendrogram helps us understand the hierarchy of clusters and where potential splits between clusters might be."
   ]
  },
  {
   "cell_type": "markdown",
   "id": "c8058c92",
   "metadata": {
    "papermill": {
     "duration": 0.021076,
     "end_time": "2024-08-20T08:38:16.413488",
     "exception": false,
     "start_time": "2024-08-20T08:38:16.392412",
     "status": "completed"
    },
    "tags": []
   },
   "source": [
    "## Model Comparing and Interpreting Results"
   ]
  },
  {
   "cell_type": "code",
   "execution_count": 13,
   "id": "296116dd",
   "metadata": {
    "execution": {
     "iopub.execute_input": "2024-08-20T08:38:16.458551Z",
     "iopub.status.busy": "2024-08-20T08:38:16.458077Z",
     "iopub.status.idle": "2024-08-20T08:38:16.470787Z",
     "shell.execute_reply": "2024-08-20T08:38:16.468788Z"
    },
    "papermill": {
     "duration": 0.038481,
     "end_time": "2024-08-20T08:38:16.473800",
     "exception": false,
     "start_time": "2024-08-20T08:38:16.435319",
     "status": "completed"
    },
    "tags": []
   },
   "outputs": [
    {
     "name": "stdout",
     "output_type": "stream",
     "text": [
      "Cluster Comparison:\n",
      "kmeans_cluster  dbscan_cluster\n",
      "0               -1                668\n",
      "1               -1                696\n",
      "dtype: int64\n"
     ]
    }
   ],
   "source": [
    "# Compare clusters from K-Means and DBSCAN\n",
    "print(\"Cluster Comparison:\")\n",
    "print(cleaned_essays.groupby(['kmeans_cluster', 'dbscan_cluster']).size())\n"
   ]
  },
  {
   "cell_type": "markdown",
   "id": "c4acc002",
   "metadata": {
    "papermill": {
     "duration": 0.01991,
     "end_time": "2024-08-20T08:38:16.515444",
     "exception": false,
     "start_time": "2024-08-20T08:38:16.495534",
     "status": "completed"
    },
    "tags": []
   },
   "source": []
  },
  {
   "cell_type": "markdown",
   "id": "bab3eef6",
   "metadata": {
    "papermill": {
     "duration": 0.01938,
     "end_time": "2024-08-20T08:38:16.554671",
     "exception": false,
     "start_time": "2024-08-20T08:38:16.535291",
     "status": "completed"
    },
    "tags": []
   },
   "source": [
    "# Model Tuning and Optimization"
   ]
  },
  {
   "cell_type": "markdown",
   "id": "fbdf228b",
   "metadata": {
    "papermill": {
     "duration": 0.021963,
     "end_time": "2024-08-20T08:38:16.597299",
     "exception": false,
     "start_time": "2024-08-20T08:38:16.575336",
     "status": "completed"
    },
    "tags": []
   },
   "source": [
    "## K-Means Hyperparameter Tuning"
   ]
  },
  {
   "cell_type": "code",
   "execution_count": 14,
   "id": "b4cb67a9",
   "metadata": {
    "execution": {
     "iopub.execute_input": "2024-08-20T08:38:16.640561Z",
     "iopub.status.busy": "2024-08-20T08:38:16.640024Z",
     "iopub.status.idle": "2024-08-20T08:38:40.781784Z",
     "shell.execute_reply": "2024-08-20T08:38:40.780218Z"
    },
    "papermill": {
     "duration": 24.167043,
     "end_time": "2024-08-20T08:38:40.784901",
     "exception": false,
     "start_time": "2024-08-20T08:38:16.617858",
     "status": "completed"
    },
    "tags": []
   },
   "outputs": [
    {
     "name": "stderr",
     "output_type": "stream",
     "text": [
      "/opt/conda/lib/python3.10/site-packages/sklearn/cluster/_kmeans.py:870: FutureWarning: The default value of `n_init` will change from 10 to 'auto' in 1.4. Set the value of `n_init` explicitly to suppress the warning\n",
      "  warnings.warn(\n",
      "/opt/conda/lib/python3.10/site-packages/sklearn/cluster/_kmeans.py:870: FutureWarning: The default value of `n_init` will change from 10 to 'auto' in 1.4. Set the value of `n_init` explicitly to suppress the warning\n",
      "  warnings.warn(\n",
      "/opt/conda/lib/python3.10/site-packages/sklearn/cluster/_kmeans.py:870: FutureWarning: The default value of `n_init` will change from 10 to 'auto' in 1.4. Set the value of `n_init` explicitly to suppress the warning\n",
      "  warnings.warn(\n",
      "/opt/conda/lib/python3.10/site-packages/sklearn/cluster/_kmeans.py:870: FutureWarning: The default value of `n_init` will change from 10 to 'auto' in 1.4. Set the value of `n_init` explicitly to suppress the warning\n",
      "  warnings.warn(\n",
      "/opt/conda/lib/python3.10/site-packages/sklearn/cluster/_kmeans.py:870: FutureWarning: The default value of `n_init` will change from 10 to 'auto' in 1.4. Set the value of `n_init` explicitly to suppress the warning\n",
      "  warnings.warn(\n",
      "/opt/conda/lib/python3.10/site-packages/sklearn/cluster/_kmeans.py:870: FutureWarning: The default value of `n_init` will change from 10 to 'auto' in 1.4. Set the value of `n_init` explicitly to suppress the warning\n",
      "  warnings.warn(\n",
      "/opt/conda/lib/python3.10/site-packages/sklearn/cluster/_kmeans.py:870: FutureWarning: The default value of `n_init` will change from 10 to 'auto' in 1.4. Set the value of `n_init` explicitly to suppress the warning\n",
      "  warnings.warn(\n",
      "/opt/conda/lib/python3.10/site-packages/sklearn/cluster/_kmeans.py:870: FutureWarning: The default value of `n_init` will change from 10 to 'auto' in 1.4. Set the value of `n_init` explicitly to suppress the warning\n",
      "  warnings.warn(\n",
      "/opt/conda/lib/python3.10/site-packages/sklearn/cluster/_kmeans.py:870: FutureWarning: The default value of `n_init` will change from 10 to 'auto' in 1.4. Set the value of `n_init` explicitly to suppress the warning\n",
      "  warnings.warn(\n",
      "/opt/conda/lib/python3.10/site-packages/sklearn/cluster/_kmeans.py:870: FutureWarning: The default value of `n_init` will change from 10 to 'auto' in 1.4. Set the value of `n_init` explicitly to suppress the warning\n",
      "  warnings.warn(\n"
     ]
    },
    {
     "data": {
      "image/png": "[encoded data removed]",
      "text/plain": [
       "<Figure size 1000x600 with 1 Axes>"
      ]
     },
     "metadata": {},
     "output_type": "display_data"
    }
   ],
   "source": [
    "# Elbow Method for K-Means\n",
    "inertia = []\n",
    "k_values = range(1, 11)\n",
    "\n",
    "for k in k_values:\n",
    "    kmeans = KMeans(n_clusters=k, random_state=42)\n",
    "    kmeans.fit(X_scaled)\n",
    "    inertia.append(kmeans.inertia_)\n",
    "\n",
    "# Plotting the Elbow Method result\n",
    "plt.figure(figsize=(10, 6))\n",
    "plt.plot(k_values, inertia, marker='o')\n",
    "plt.title('Elbow Method for Optimal K in K-Means')\n",
    "plt.xlabel('Number of Clusters (k)')\n",
    "plt.ylabel('Inertia')\n",
    "plt.show()\n"
   ]
  },
  {
   "cell_type": "markdown",
   "id": "3e5dc465",
   "metadata": {
    "papermill": {
     "duration": 0.025417,
     "end_time": "2024-08-20T08:38:40.833319",
     "exception": false,
     "start_time": "2024-08-20T08:38:40.807902",
     "status": "completed"
    },
    "tags": []
   },
   "source": [
    "## DBSCAN Hyperparameter Tuning"
   ]
  },
  {
   "cell_type": "code",
   "execution_count": 15,
   "id": "bb6ec122",
   "metadata": {
    "execution": {
     "iopub.execute_input": "2024-08-20T08:38:40.884907Z",
     "iopub.status.busy": "2024-08-20T08:38:40.884222Z",
     "iopub.status.idle": "2024-08-20T08:38:49.324126Z",
     "shell.execute_reply": "2024-08-20T08:38:49.323077Z"
    },
    "papermill": {
     "duration": 8.470268,
     "end_time": "2024-08-20T08:38:49.327992",
     "exception": false,
     "start_time": "2024-08-20T08:38:40.857724",
     "status": "completed"
    },
    "tags": []
   },
   "outputs": [
    {
     "name": "stdout",
     "output_type": "stream",
     "text": [
      "EPS: 0.3, Min Samples: 3, Number of Clusters: 0, Outliers: 1364\n",
      "EPS: 0.3, Min Samples: 5, Number of Clusters: 0, Outliers: 1364\n",
      "EPS: 0.3, Min Samples: 7, Number of Clusters: 0, Outliers: 1364\n",
      "EPS: 0.3, Min Samples: 10, Number of Clusters: 0, Outliers: 1364\n",
      "EPS: 0.5, Min Samples: 3, Number of Clusters: 0, Outliers: 1364\n",
      "EPS: 0.5, Min Samples: 5, Number of Clusters: 0, Outliers: 1364\n",
      "EPS: 0.5, Min Samples: 7, Number of Clusters: 0, Outliers: 1364\n",
      "EPS: 0.5, Min Samples: 10, Number of Clusters: 0, Outliers: 1364\n",
      "EPS: 0.7, Min Samples: 3, Number of Clusters: 0, Outliers: 1364\n",
      "EPS: 0.7, Min Samples: 5, Number of Clusters: 0, Outliers: 1364\n",
      "EPS: 0.7, Min Samples: 7, Number of Clusters: 0, Outliers: 1364\n",
      "EPS: 0.7, Min Samples: 10, Number of Clusters: 0, Outliers: 1364\n",
      "EPS: 1.0, Min Samples: 3, Number of Clusters: 0, Outliers: 1364\n",
      "EPS: 1.0, Min Samples: 5, Number of Clusters: 0, Outliers: 1364\n",
      "EPS: 1.0, Min Samples: 7, Number of Clusters: 0, Outliers: 1364\n",
      "EPS: 1.0, Min Samples: 10, Number of Clusters: 0, Outliers: 1364\n"
     ]
    }
   ],
   "source": [
    "# Tuning DBSCAN with different eps and min_samples values\n",
    "eps_values = [0.3, 0.5, 0.7, 1.0]\n",
    "min_samples_values = [3, 5, 7, 10]\n",
    "\n",
    "for eps in eps_values:\n",
    "    for min_samples in min_samples_values:\n",
    "        dbscan = DBSCAN(eps=eps, min_samples=min_samples)\n",
    "        dbscan.fit(X_scaled)\n",
    "        n_clusters = len(set(dbscan.labels_)) - (1 if -1 in dbscan.labels_ else 0)\n",
    "        print(f\"EPS: {eps}, Min Samples: {min_samples}, Number of Clusters: {n_clusters}, Outliers: {list(dbscan.labels_).count(-1)}\")\n"
   ]
  },
  {
   "cell_type": "markdown",
   "id": "0a7731fd",
   "metadata": {
    "papermill": {
     "duration": 0.022993,
     "end_time": "2024-08-20T08:38:49.375790",
     "exception": false,
     "start_time": "2024-08-20T08:38:49.352797",
     "status": "completed"
    },
    "tags": []
   },
   "source": [
    "# Analyzing Cluster Results and Drawing Conclusions"
   ]
  },
  {
   "cell_type": "markdown",
   "id": "030b25b9",
   "metadata": {
    "papermill": {
     "duration": 0.022926,
     "end_time": "2024-08-20T08:38:49.421764",
     "exception": false,
     "start_time": "2024-08-20T08:38:49.398838",
     "status": "completed"
    },
    "tags": []
   },
   "source": [
    "## K-Means Clusters"
   ]
  },
  {
   "cell_type": "markdown",
   "id": "ad5c5b15",
   "metadata": {
    "papermill": {
     "duration": 0.023991,
     "end_time": "2024-08-20T08:38:49.469587",
     "exception": false,
     "start_time": "2024-08-20T08:38:49.445596",
     "status": "completed"
    },
    "tags": []
   },
   "source": [
    "few sample essays from each K-Means cluster"
   ]
  },
  {
   "cell_type": "code",
   "execution_count": 16,
   "id": "85c9e53d",
   "metadata": {
    "execution": {
     "iopub.execute_input": "2024-08-20T08:38:49.521139Z",
     "iopub.status.busy": "2024-08-20T08:38:49.520615Z",
     "iopub.status.idle": "2024-08-20T08:38:49.537792Z",
     "shell.execute_reply": "2024-08-20T08:38:49.535826Z"
    },
    "papermill": {
     "duration": 0.047172,
     "end_time": "2024-08-20T08:38:49.541465",
     "exception": false,
     "start_time": "2024-08-20T08:38:49.494293",
     "status": "completed"
    },
    "tags": []
   },
   "outputs": [
    {
     "name": "stdout",
     "output_type": "stream",
     "text": [
      "\n",
      "Cluster 0:\n",
      "Essay 1: Voting. Voting is a pretty big deal that only comes around so many years. And with voting the citizens of the U.S. have a voice. And also the voting method in which the president is elected by popular...\n",
      "Essay 2: Dear The Florida State Senator, In our nation, we use a process called the Electoral College to be a deciding factor in presidential elections. I firmly believe this system has become outdated as our ...\n",
      "Essay 3: The Electoral College is America's current method of election. A process created by our founding fathers that consists of the selection of electors, the meeting of the electors where they vote for pre...\n",
      "Essay 4: Dear state senator, I think the voting should be based off of the most popular vote. When we go to vote all we're voting for is electors to vote for the president they choose. In my opinion the people...\n",
      "Essay 5: The Electoral College was created with good intentions, but it has many vital flaws which allow for very unfair outcomes. The electoral college is an outdated, and irrational way to choose the preside...\n",
      "\n",
      "Cluster 1:\n",
      "Essay 1: I was very excited about my first trip to the West Coast California that I took last summer. It was a place Ive always fantasized over because of its variety of beauty from the surfing beaches to the ...\n",
      "Essay 2: In the world that we live in now, many people use cars to get around like getting to work, schooling, and some just go for fun, or the experience of it. In our world, these vehicles are causing a very...\n",
      "Essay 3: Driving cars can be a danger to humans, but also a threat to the Earth. The usage of cars has plummeted since recent topics of smog, and safety. Using a car to get from point A to point B is getting o...\n",
      "Essay 4: Some people like to drive while others don't and some countries are making bans or just limiting the usage of cars. This can have more advantages than disadvantages.\n",
      "\n",
      "When people drive cars they let o...\n",
      "Essay 5: Attention my fellow citizens, we should limit car usage because limiting car usage will release stress, reduce greenhouse gas emissions from tailpipe, and stop smog.\n",
      "\n",
      "First, we should limit car usage ...\n"
     ]
    }
   ],
   "source": [
    "# Inspect the essays in each K-Means cluster\n",
    "for cluster in sorted(cleaned_essays['kmeans_cluster'].unique()):\n",
    "    print(f\"\\nCluster {cluster}:\")\n",
    "    sample_essays = cleaned_essays[cleaned_essays['kmeans_cluster'] == cluster].sample(5)\n",
    "    for i, text in enumerate(sample_essays['text']):\n",
    "        print(f\"Essay {i + 1}: {text[:200]}...\")  # Display first 200 characters of each essay\n"
   ]
  },
  {
   "cell_type": "markdown",
   "id": "da10b3fe",
   "metadata": {
    "papermill": {
     "duration": 0.02424,
     "end_time": "2024-08-20T08:38:49.590298",
     "exception": false,
     "start_time": "2024-08-20T08:38:49.566058",
     "status": "completed"
    },
    "tags": []
   },
   "source": [
    "## DBSCAN Clusters and Outliers"
   ]
  },
  {
   "cell_type": "code",
   "execution_count": 17,
   "id": "b916f25a",
   "metadata": {
    "execution": {
     "iopub.execute_input": "2024-08-20T08:38:49.641856Z",
     "iopub.status.busy": "2024-08-20T08:38:49.641380Z",
     "iopub.status.idle": "2024-08-20T08:38:49.656162Z",
     "shell.execute_reply": "2024-08-20T08:38:49.654021Z"
    },
    "papermill": {
     "duration": 0.04414,
     "end_time": "2024-08-20T08:38:49.659567",
     "exception": false,
     "start_time": "2024-08-20T08:38:49.615427",
     "status": "completed"
    },
    "tags": []
   },
   "outputs": [
    {
     "name": "stdout",
     "output_type": "stream",
     "text": [
      "\n",
      "Number of Outliers Detected by DBSCAN: 1364\n",
      "Sample Outliers:\n",
      "Outlier Essay 1: In America, presidents are voted in by the electoral college. The electoral college is a process of electors from all the states that vote for the president and vice president. There are 538 electors,...\n",
      "Outlier Essay 2: Dear Senator, I heartily agree that we the people should keep the electoral College. Like you may already know, \"the ElectoralCcollege is a process, not a place.\" Our founding fathers have made it, an...\n",
      "Outlier Essay 3: Cars have been a part of our culture for some time now. Since Henry Ford created the Model T, we have been crazy about these machines. Molding, crafting, and improving since, we have come to know thes...\n",
      "Outlier Essay 4: The most basic and persistent form of transportation that has been around for centuries has been the use of cars. Hundreds of thousands of people use automobiles to get to their destinations in a quic...\n",
      "Outlier Essay 5: When electing the president of the United States, you must vote in favor of the president you want. However, instead of coming down to popular vote, the system uses the Electrolar College to decide. T...\n"
     ]
    }
   ],
   "source": [
    "# Inspect outliers detected by DBSCAN\n",
    "outliers = cleaned_essays[cleaned_essays['dbscan_cluster'] == -1]\n",
    "\n",
    "print(f\"\\nNumber of Outliers Detected by DBSCAN: {len(outliers)}\")\n",
    "print(\"Sample Outliers:\")\n",
    "for i, text in enumerate(outliers['text'].sample(5)):\n",
    "    print(f\"Outlier Essay {i + 1}: {text[:200]}...\")\n"
   ]
  },
  {
   "cell_type": "markdown",
   "id": "dafa1716",
   "metadata": {
    "papermill": {
     "duration": 0.026064,
     "end_time": "2024-08-20T08:38:49.710803",
     "exception": false,
     "start_time": "2024-08-20T08:38:49.684739",
     "status": "completed"
    },
    "tags": []
   },
   "source": [
    "## Hierarchical Clustering"
   ]
  },
  {
   "cell_type": "code",
   "execution_count": 18,
   "id": "757ac2a0",
   "metadata": {
    "execution": {
     "iopub.execute_input": "2024-08-20T08:38:49.764939Z",
     "iopub.status.busy": "2024-08-20T08:38:49.764145Z",
     "iopub.status.idle": "2024-08-20T08:38:49.802332Z",
     "shell.execute_reply": "2024-08-20T08:38:49.798700Z"
    },
    "papermill": {
     "duration": 0.068648,
     "end_time": "2024-08-20T08:38:49.806184",
     "exception": false,
     "start_time": "2024-08-20T08:38:49.737536",
     "status": "completed"
    },
    "tags": []
   },
   "outputs": [
    {
     "name": "stdout",
     "output_type": "stream",
     "text": [
      "\n",
      "Hierarchical Cluster 1:\n",
      "Essay 1: Can you imagine not using a car when you go anywhere, not even up the road to the grocery store? Some people can't imagine living without cars, whereas some people already have made the transition, or...\n",
      "Essay 2: In today's society, when people are asked if they would give up their cars, they would be shocked. No would be the most common answer. However, the advantages of limiting car usage are great. General ...\n",
      "Essay 3: Limited car usage has plenty of advantages. A few examples of advantages that come from limited car usage are lessening the amount of gases polluting the air, also it would create a friendly and neigh...\n",
      "Essay 4: Not everyone has the luxury of owning a car. But cars are not the only means that can get us from point A to point B. In fact, having limited usage of cars is an advantage to society, our own good, an...\n",
      "Essay 5: Thousands of Americans use their own car or a vehicle as their main transportation in their every day lives. No one seems to look at how cars are actually destroying the environment ,rather then helpi...\n",
      "\n",
      "Hierarchical Cluster 2:\n",
      "Essay 1: We cuiiently live in a woild dependent on machines becoming moie and moie enveloped in this idea of ieliance. Howevei, now we have ieached a point wheie that ieliance is haiming us and oui planet, and...\n",
      "\n",
      "Hierarchical Cluster 3:\n",
      "Essay 1: Presidenas, ahey are ahe mosa powerful people in ahe Uniaed Saaaes of America. They are ahe people who make ahe aough calls for ahe masses ao make sure ahe benefias of ahe majoriay are mea because ahe...\n",
      "Essay 2: Dear saaae senaaor, My leaaer is in regards ao changing ahe elecaion ao popular voae for ahe presidena of ahe Uniaed Saaaes. I believe ahaa we, ahe people, should have ahe opporauniay ao choose whom w...\n",
      "\n",
      "Hierarchical Cluster 4:\n",
      "Essay 1: Dear State Senator, I am in favor of changing to election by popular vote for the preiident of the United Statei and I know I'm not alone on thii one. \"Richard Nixon, Jimmy Carter, Bob Dole, the U.S. ...\n",
      "Essay 2: Recently, there have been and more people walking, riding bikei, and carpooling with friendi to get to the placei they need to be. Becauie of the fact that people are doing thii, the amout of imog in ...\n",
      "Essay 3: Innocent and young, children grow accuitomed to the utilization of cari in iociety. Hot Wheelz, batterypowered Barbie SUVi, Heii Semitrucki, and other deviationi of playfriendly cari introduce the car...\n",
      "Essay 4: When it comei to automobilei they can provide ui with numeroui benefiti. However, it would appear that limiting car uie hai far more advantagei than thought of before: it can help the environment, pro...\n",
      "Essay 5: The electoral college ii iomething that hai been loved, hated, and debated on for iome yeari now. We could aboliih it or keep it the way it ii. Some iay the electoral college ii undemocratic and unfai...\n",
      "\n",
      "Hierarchical Cluster 5:\n",
      "Essay 1: Over the years, people have been disputing over the Electoral College. Some people want it abolished while others want it to stay. The Electoral College is not working and and it needs to be abolished...\n",
      "Essay 2: Many people feel that the president plays a very imperative role in the United States. He has much responsibility and an enormous influence on what this country stands for. So, surely, this president ...\n",
      "Essay 3: People in America vote for a candidate running for president believing that their vote counts, but in reality it all comes down to the Electoral College. According to \"The Indefensible Electoral Colle...\n",
      "Essay 4: Dear Senator, I believe that is is time to get rid of the electoral college. The electoral college is outdated and irrational, the best arguments are only assertions that dont have much basis in reali...\n",
      "Essay 5: Citizens of the U.S. have been voting for their presidents ever since George Washington was elected. They vote because they want their voices and opinions to be heard. So they can provide ways to make...\n",
      "\n",
      "Hierarchical Cluster 6:\n",
      "Essay 1: The Elector College ishould be aboliished becauise of it'is many flawis that it hais.\n",
      "\n",
      "Firist and foremoist, preisidential election iis not about the people. In the article named, \"The Indefenisible E...\n",
      "Essay 2: Dear Florida State Senator, Every 4 years, many people vote for a president theey theink will lead thee United States to greatness some, however, don't know theat theey are voting for thee Electoral c...\n",
      "Essay 3: Does athe elecatoral college work? I don'at athink so, buat some people may. I athink athe Uniated Sataates should noat keep athe Elecatoral College and should chose athe presidenat by popular voate. ...\n",
      "Essay 4: Since our very first President George Washington our founding fatheers have created a system of how a President shall be elected. For many years theis system has been proven to be effective. This syst...\n",
      "Essay 5: Ai one poini, I believed ihe elecioral college was a bad idea. Alihough, afier reading ihis, my view on ihe maiier as changed dramaiically. The elecioral college keeps a balance in a couniry, a balanc...\n",
      "\n",
      "Hierarchical Cluster 7:\n",
      "Essay 1: There has beeon a major awareoness of the effects that cars have oon us as a meaons of traonsportatioon. People questioon whether or onot abaondooniong cars as our primary use of traonsportatioon is w...\n",
      "\n",
      "Hierarchical Cluster 8:\n",
      "Essay 1: Dear Senaitor, I feel ithait ithe elecitoral college should be be removed from ithe voiting process and replaced by ithe popular voite. The vioce of ithe people is ithe mosit imporitanit ithingin ensu...\n",
      "Essay 2: The presidenit is our leader. And you don'it wanit some people picking who your nexit leader is gonna be. I ithink we should change ito ithe popular voite because in ithe Elecitoral college you don\"it...\n",
      "Essay 3: Dear Mrs. Senaitor, The Elecitoral College is unfair, ouitdaited, and a poorly represenitaitive sysitem for our naition. Previous elecitions and facits show ithait ithe Elecitoral College may have wor...\n",
      "\n",
      "Hierarchical Cluster 9:\n",
      "Essay 1: Dear senatoor of Florida. I am here tooday too toell you whato I tohink abouto tohe Electooral College. I tohink tohe tohe Electooral College is a very irratoional way too electo our presidentos of to...\n",
      "\n",
      "Hierarchical Cluster 10:\n",
      "Essay 1: Car uaage around tohe world ia cauaing an increaae in pollutoion, greenhouae gaa, and obeaitoy. Citoiea have had too ahuto down roada and ban driving juato too clear tohe pollutoion in tohe air due to...\n"
     ]
    },
    {
     "name": "stderr",
     "output_type": "stream",
     "text": [
      "/tmp/ipykernel_18/2181203013.py:5: SettingWithCopyWarning: \n",
      "A value is trying to be set on a copy of a slice from a DataFrame.\n",
      "Try using .loc[row_indexer,col_indexer] = value instead\n",
      "\n",
      "See the caveats in the documentation: https://pandas.pydata.org/pandas-docs/stable/user_guide/indexing.html#returning-a-view-versus-a-copy\n",
      "  cleaned_essays['hierarchical_cluster'] = clusters_hierarchical\n"
     ]
    }
   ],
   "source": [
    "from scipy.cluster.hierarchy import fcluster\n",
    "\n",
    "# Create exactly 10 flat clusters from the hierarchical clustering\n",
    "clusters_hierarchical = fcluster(Z, t=10, criterion='maxclust')\n",
    "cleaned_essays['hierarchical_cluster'] = clusters_hierarchical\n",
    "\n",
    "# Inspect essays in the first 10 clusters\n",
    "for cluster in range(1, 11):  # We expect 10 clusters labeled from 1 to 10\n",
    "    print(f\"\\nHierarchical Cluster {cluster}:\")\n",
    "    \n",
    "    # Get the essays in the current cluster\n",
    "    essays_in_cluster = cleaned_essays[cleaned_essays['hierarchical_cluster'] == cluster]\n",
    "    \n",
    "    # Take a sample of up to 5 essays from the current cluster\n",
    "    sample_size = min(5, len(essays_in_cluster))\n",
    "    sample_essays = essays_in_cluster.sample(sample_size)\n",
    "    \n",
    "    # Print out the sampled essays\n",
    "    for i, text in enumerate(sample_essays['text']):\n",
    "        print(f\"Essay {i + 1}: {text[:200]}...\")\n"
   ]
  },
  {
   "cell_type": "code",
   "execution_count": 19,
   "id": "74caaa9f",
   "metadata": {
    "execution": {
     "iopub.execute_input": "2024-08-20T08:38:49.861591Z",
     "iopub.status.busy": "2024-08-20T08:38:49.860780Z",
     "iopub.status.idle": "2024-08-20T08:38:49.879739Z",
     "shell.execute_reply": "2024-08-20T08:38:49.877515Z"
    },
    "papermill": {
     "duration": 0.051122,
     "end_time": "2024-08-20T08:38:49.883489",
     "exception": false,
     "start_time": "2024-08-20T08:38:49.832367",
     "status": "completed"
    },
    "tags": []
   },
   "outputs": [
    {
     "name": "stdout",
     "output_type": "stream",
     "text": [
      "Submission file has been created and saved as submission.csv.\n"
     ]
    }
   ],
   "source": [
    "\n",
    "# Create the submission DataFrame\n",
    "submission_df = pd.DataFrame({\n",
    "    'id': cleaned_essays['id'],  # Assuming 'id' is the unique identifier of the essays\n",
    "    'generated': cleaned_essays['dbscan_cluster'].apply(lambda x: 1 if x == -1 else 0)  # Mark outliers as AI-generated (1), else student-written (0)\n",
    "})\n",
    "\n",
    "# Save the DataFrame as a CSV file in the correct format\n",
    "submission_df.to_csv('/kaggle/working/submission.csv', index=False)\n",
    "\n",
    "# Display message confirming the CSV export\n",
    "print(\"Submission file has been created and saved as submission.csv.\")\n"
   ]
  },
  {
   "cell_type": "markdown",
   "id": "f91e2ae5",
   "metadata": {
    "papermill": {
     "duration": 0.025104,
     "end_time": "2024-08-20T08:38:49.934755",
     "exception": false,
     "start_time": "2024-08-20T08:38:49.909651",
     "status": "completed"
    },
    "tags": []
   },
   "source": [
    "# Conclusion\n",
    "`K-Means `was useful for general clustering but struggled with detecting outliers. \n",
    "\n",
    "`DBSCAN` couldn't identify the Cluster level if we are not apply a pre-defined number of clusters.\n",
    "\n",
    "`Hierarchical` clustering was helpful in visualizing the overall structure of the essays, but it wasn’t as practical for real-time anomaly detection due to its computational limitations. However, it still contributed to my understanding of how essays grouped together at various levels of similarity.\n",
    "\n",
    "Overall, the clustering models provided valuable insights into the dataset and were effective in identifying potential AI-generated essays. While K-Means and Hierarchical Clustering contributed useful perspectives on the data structure, Hierarchical performed well in anomaly detection, but the efficiency is a major concern.\n",
    "\n",
    "Moving forward, incorporating additional features and tuning the hyperparameters more finely will likely improve clustering performance and provide deeper insights into the nature of AI-generated versus student-written essays."
   ]
  },
  {
   "cell_type": "code",
   "execution_count": null,
   "id": "bd9c2b5f",
   "metadata": {
    "papermill": {
     "duration": 0.024487,
     "end_time": "2024-08-20T08:38:49.984276",
     "exception": false,
     "start_time": "2024-08-20T08:38:49.959789",
     "status": "completed"
    },
    "tags": []
   },
   "outputs": [],
   "source": []
  },
  {
   "cell_type": "code",
   "execution_count": null,
   "id": "6ff80949",
   "metadata": {
    "papermill": {
     "duration": 0.025555,
     "end_time": "2024-08-20T08:38:50.035990",
     "exception": false,
     "start_time": "2024-08-20T08:38:50.010435",
     "status": "completed"
    },
    "tags": []
   },
   "outputs": [],
   "source": []
  }
 ],
 "metadata": {
  "kaggle": {
   "accelerator": "none",
   "dataSources": [
    {
     "databundleVersionId": 7516023,
     "sourceId": 61542,
     "sourceType": "competition"
    }
   ],
   "dockerImageVersionId": 30746,
   "isGpuEnabled": false,
   "isInternetEnabled": false,
   "language": "python",
   "sourceType": "notebook"
  },
  "kernelspec": {
   "display_name": "Python 3",
   "language": "python",
   "name": "python3"
  },
  "language_info": {
   "codemirror_mode": {
    "name": "ipython",
    "version": 3
   },
   "file_extension": ".py",
   "mimetype": "text/x-python",
   "name": "python",
   "nbconvert_exporter": "python",
   "pygments_lexer": "ipython3",
   "version": "3.10.13"
  },
  "papermill": {
   "default_parameters": {},
   "duration": 54.250209,
   "end_time": "2024-08-20T08:38:51.090305",
   "environment_variables": {},
   "exception": null,
   "input_path": "__notebook__.ipynb",
   "output_path": "__notebook__.ipynb",
   "parameters": {},
   "start_time": "2024-08-20T08:37:56.840096",
   "version": "2.5.0"
  }
 },
 "nbformat": 4,
 "nbformat_minor": 5
}
